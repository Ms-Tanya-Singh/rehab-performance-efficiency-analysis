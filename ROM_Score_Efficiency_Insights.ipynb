{
 "cells": [
  {
   "cell_type": "markdown",
   "id": "2f391c35",
   "metadata": {},
   "source": [
    "# Analyzing Score Efficiency in Therapeutic Games for Rehabilitation (Mock Data)\n",
    "This notebook explores time-normalized scoring efficiency, outlier removal, and performance trends across patient classifications and game difficulty levels."
   ]
  },
  {
   "cell_type": "code",
   "execution_count": null,
   "id": "2ef7ce08",
   "metadata": {},
   "outputs": [],
   "source": [
    "import pandas as pd\n",
    "import matplotlib.pyplot as plt\n",
    "import seaborn as sns\n",
    "\n",
    "# Load the mock data\n",
    "df = pd.read_csv('../data/mock_rom_data.csv')\n",
    "df.head()"
   ]
  },
  {
   "cell_type": "markdown",
   "id": "5464246e",
   "metadata": {},
   "source": [
    "## IQR Outlier Filtering\n",
    "We remove outliers from `score_per_minute` using the interquartile range."
   ]
  },
  {
   "cell_type": "code",
   "execution_count": null,
   "id": "dc64c504",
   "metadata": {},
   "outputs": [],
   "source": [
    "Q1 = df['score_per_minute'].quantile(0.25)\n",
    "Q3 = df['score_per_minute'].quantile(0.75)\n",
    "IQR = Q3 - Q1\n",
    "\n",
    "lower_bound = Q1 - 1.5 * IQR\n",
    "upper_bound = Q3 + 1.5 * IQR\n",
    "\n",
    "df_filtered = df[(df['score_per_minute'] >= lower_bound) & (df['score_per_minute'] <= upper_bound)]\n",
    "\n",
    "print(f\"Original rows: {len(df)}\")\n",
    "print(f\"Filtered rows: {len(df_filtered)}\")"
   ]
  },
  {
   "cell_type": "markdown",
   "id": "eddb18dd",
   "metadata": {},
   "source": [
    "## Score per Minute by ROM Classification"
   ]
  },
  {
   "cell_type": "code",
   "execution_count": null,
   "id": "202b7cef",
   "metadata": {},
   "outputs": [],
   "source": [
    "plt.figure(figsize=(10, 6))\n",
    "sns.boxplot(data=df_filtered, x='Classification', y='score_per_minute', palette='pastel')\n",
    "plt.title(\"Score per Minute by ROM Classification (Outliers Removed)\")\n",
    "plt.xlabel(\"ROM Classification\")\n",
    "plt.ylabel(\"Score per Minute\")\n",
    "plt.tight_layout()\n",
    "plt.savefig('../figures/score_per_minute_by_rom.png')\n",
    "plt.show()"
   ]
  },
  {
   "cell_type": "markdown",
   "id": "a165c2a8",
   "metadata": {},
   "source": [
    "## Average Score Efficiency by Game Type"
   ]
  },
  {
   "cell_type": "code",
   "execution_count": null,
   "id": "4fa3e3db",
   "metadata": {},
   "outputs": [],
   "source": [
    "game_summary = df_filtered.groupby('game')['score_per_minute'].agg(['mean', 'std', 'count']).reset_index()\n",
    "game_summary_sorted = game_summary.sort_values(by='mean', ascending=False)\n",
    "\n",
    "plt.figure(figsize=(12, 6))\n",
    "sns.barplot(data=game_summary_sorted, x='game', y='mean', palette='coolwarm')\n",
    "plt.title(\"Game Type vs. Average Score Efficiency\")\n",
    "plt.xlabel(\"Game\")\n",
    "plt.ylabel(\"Average Score per Minute\")\n",
    "plt.tight_layout()\n",
    "plt.savefig('../figures/game_type_efficiency.png')\n",
    "plt.show()"
   ]
  },
  {
   "cell_type": "markdown",
   "id": "245eadfe",
   "metadata": {},
   "source": [
    "## Game Type vs. Score Efficiency by ROM Classification"
   ]
  },
  {
   "cell_type": "code",
   "execution_count": null,
   "id": "92b5c99d",
   "metadata": {},
   "outputs": [],
   "source": [
    "grouped = df_filtered.groupby(['game', 'Classification'])['score_per_minute'].mean().reset_index()\n",
    "\n",
    "plt.figure(figsize=(14, 6))\n",
    "sns.barplot(data=grouped, x='game', y='score_per_minute', hue='Classification', palette='pastel')\n",
    "plt.title(\"Game Type vs. Score Efficiency by ROM Classification\")\n",
    "plt.xlabel(\"Game\")\n",
    "plt.ylabel(\"Average Score per Minute\")\n",
    "plt.tight_layout()\n",
    "plt.savefig('../figures/rom_vs_game_type.png')\n",
    "plt.show()"
   ]
  }
 ],
 "metadata": {
  "language_info": {
   "name": "python"
  }
 },
 "nbformat": 4,
 "nbformat_minor": 5
}
